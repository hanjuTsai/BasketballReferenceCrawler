{
 "cells": [
  {
   "cell_type": "code",
   "execution_count": 1,
   "metadata": {},
   "outputs": [],
   "source": [
    "import os\n",
    "import re\n",
    "import time\n",
    "import datetime\n",
    "import requests\n",
    "import pandas as pd\n",
    "from datetime import datetime\n",
    "from bs4 import BeautifulSoup\n",
    "from IPython.display import clear_output\n",
    "from selenium import webdriver\n",
    "from selenium.webdriver.support.ui import Select\n",
    "from selenium.webdriver.common.keys import Keys\n",
    "from selenium.webdriver.chrome.options import Options\n",
    "from selenium.webdriver.common.by import By\n",
    "from selenium.webdriver.common.action_chains import ActionChains"
   ]
  },
  {
   "cell_type": "code",
   "execution_count": 35,
   "metadata": {},
   "outputs": [],
   "source": [
    "df = pd.read_excel('info.xlsx')\n",
    "orin = pd.read_csv('players_search_list.csv',header=None)\n",
    "\n",
    "fir = []\n",
    "las = []\n",
    "row , col = df.shape\n",
    "for i in range((row)):\n",
    "    try:\n",
    "        f, n = orin[1][i].split()\n",
    "    except:\n",
    "        ss = orin[1][i].split()\n",
    "        if len(ss) == 3:\n",
    "            f = ss[0] + ' ' + ss[1]\n",
    "            n = ss[2]\n",
    "        else:\n",
    "            f = ss[0]\n",
    "            n = ss[0]\n",
    "    fir.append(f)\n",
    "    las.append(n)\n",
    "    \n",
    "df['FirstName'] = pd.Series(fir)\n",
    "df['LastName'] = pd.Series(las)"
   ]
  },
  {
   "cell_type": "code",
   "execution_count": 37,
   "metadata": {},
   "outputs": [],
   "source": [
    "df.to_excel('info2.xlsx')"
   ]
  }
 ],
 "metadata": {
  "kernelspec": {
   "display_name": "Python 3",
   "language": "python",
   "name": "python3"
  },
  "language_info": {
   "codemirror_mode": {
    "name": "ipython",
    "version": 3
   },
   "file_extension": ".py",
   "mimetype": "text/x-python",
   "name": "python",
   "nbconvert_exporter": "python",
   "pygments_lexer": "ipython3",
   "version": "3.7.0"
  }
 },
 "nbformat": 4,
 "nbformat_minor": 2
}
