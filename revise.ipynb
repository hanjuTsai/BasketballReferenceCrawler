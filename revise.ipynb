{
 "cells": [
  {
   "cell_type": "code",
   "execution_count": null,
   "metadata": {},
   "outputs": [],
   "source": [
    "import os\n",
    "import re\n",
    "import time\n",
    "import datetime\n",
    "import requests\n",
    "import pickle\n",
    "import pandas as pd\n",
    "from datetime import datetime\n",
    "from bs4 import BeautifulSoup\n",
    "from IPython.display import clear_output\n",
    "from selenium import webdriver\n",
    "from selenium.webdriver.support.ui import Select\n",
    "from selenium.webdriver.common.keys import Keys\n",
    "from selenium.webdriver.chrome.options import Options\n",
    "from selenium.webdriver.common.by import By\n",
    "from selenium.webdriver.common.action_chains import ActionChains"
   ]
  },
  {
   "cell_type": "code",
   "execution_count": null,
   "metadata": {},
   "outputs": [],
   "source": [
    "df = pd.read_excel('info.xlsx')\n",
    "orin = pd.read_csv('players_search_list.csv',header=None)\n",
    "\n",
    "fir = []\n",
    "las = []\n",
    "row , col = df.shape\n",
    "for i in range((row)):\n",
    "    try:\n",
    "        f, n = orin[1][i].split()\n",
    "    except:\n",
    "        ss = orin[1][i].split()\n",
    "        if len(ss) == 3:\n",
    "            f = ss[0] + ' ' + ss[1]\n",
    "            n = ss[2]\n",
    "        else:\n",
    "            f = ss[0]\n",
    "            n = ss[0]\n",
    "    fir.append(f)\n",
    "    las.append(n)\n",
    "    \n",
    "df['FirstName'] = pd.Series(fir)\n",
    "df['LastName'] = pd.Series(las)"
   ]
  },
  {
   "cell_type": "code",
   "execution_count": null,
   "metadata": {},
   "outputs": [],
   "source": [
    "df = pd.read_excel('Helloworld.xlsx')\n"
   ]
  },
  {
   "cell_type": "code",
   "execution_count": null,
   "metadata": {},
   "outputs": [],
   "source": [
    "row, col = df.shape"
   ]
  },
  {
   "cell_type": "code",
   "execution_count": null,
   "metadata": {},
   "outputs": [],
   "source": [
    "row,col\n",
    "df.to_csv('hello.csv')"
   ]
  },
  {
   "cell_type": "code",
   "execution_count": null,
   "metadata": {},
   "outputs": [],
   "source": [
    "count = 0 \n",
    "for i in range(row):\n",
    "    print(df.當年度獎項次數[i],count)\n",
    "    if 'Career' not in df.Season[i] :\n",
    "        count += int(df.當年度獎項次數[i])\n",
    "    else:    \n",
    "        df.當年度獎項次數[i] = count\n",
    "        count = 0"
   ]
  },
  {
   "cell_type": "code",
   "execution_count": null,
   "metadata": {},
   "outputs": [],
   "source": [
    "df.to_excel('bbb.xlsx')"
   ]
  },
  {
   "cell_type": "code",
   "execution_count": null,
   "metadata": {},
   "outputs": [],
   "source": [
    "df = pd.read_excel('QQQ.xlsx')"
   ]
  },
  {
   "cell_type": "code",
   "execution_count": null,
   "metadata": {},
   "outputs": [],
   "source": [
    "for i in range(row):\n",
    "    try:\n",
    "        if '-' in df.From[i] :\n",
    "            try:\n",
    "                df.From[i] = df.From[i].split['-'][0]\n",
    "                df.To[i] = df.From[i].split['-'][1]\n",
    "            except:\n",
    "                pass\n",
    "    except:\n",
    "        pass"
   ]
  },
  {
   "cell_type": "code",
   "execution_count": null,
   "metadata": {},
   "outputs": [],
   "source": [
    "df.to_excel('Finallll.xlsx')"
   ]
  },
  {
   "cell_type": "code",
   "execution_count": null,
   "metadata": {},
   "outputs": [],
   "source": [
    "df.to_csv('ccc.csv')"
   ]
  },
  {
   "cell_type": "code",
   "execution_count": null,
   "metadata": {},
   "outputs": [],
   "source": [
    "pd.read_csv('ccc.csv').to_excel('dd.xlsx')"
   ]
  },
  {
   "cell_type": "code",
   "execution_count": null,
   "metadata": {},
   "outputs": [],
   "source": [
    "for i in range(row):\n",
    "    if 'Career' in df.Season[i] :\n",
    "        df.年資[i] = df.年資[i-1]"
   ]
  },
  {
   "cell_type": "code",
   "execution_count": null,
   "metadata": {},
   "outputs": [],
   "source": [
    "df['名人堂'] = dff['名人堂']\n",
    "df['外籍球員'] = dff['外籍球員']"
   ]
  },
  {
   "cell_type": "code",
   "execution_count": null,
   "metadata": {},
   "outputs": [],
   "source": [
    "df  = pd.read_excel('Finallll.xlsx')"
   ]
  },
  {
   "cell_type": "code",
   "execution_count": null,
   "metadata": {},
   "outputs": [],
   "source": [
    "players_list = pd.read_csv('player_my_df.csv')\n",
    "player_name = list(players_list['1'])\n",
    "\n",
    "k = 0 \n",
    "row , col = df.shape\n",
    "result = pd.DataFrame(columns=['是否入圍全明星','當年度獎項次數', '當年度獎項YN'])\n",
    "all_series = []\n",
    "\n",
    "for i in range(row):\n",
    "    k+= 1\n",
    "    all_series.append(df.Season[i])\n",
    "    \n",
    "    if df.Season[i] == 'Career':\n",
    "        small_df = pd.DataFrame()\n",
    "        r = k\n",
    "        k = 0\n",
    "        if df.FirstName[i] == df.LastName[i]:\n",
    "            n = df.FirstName[i]\n",
    "        else:\n",
    "            n =  df.FirstName[i] + ' ' + df.LastName[i]\n",
    "\n",
    "        try:\n",
    "            a = player_name.index(n)\n",
    "        except:\n",
    "            for j in range(len(player_name)):\n",
    "                if n in player_name[j]:\n",
    "                    a = j\n",
    "                    break\n",
    "    \n",
    "           ## Hall of Fame ##\n",
    "        if(award[0]):\n",
    "            small_df['名人堂']= pd.Series([1]*r)\n",
    "        else:\n",
    "            small_df['名人堂']= pd.Series([0]*r)\n",
    "\n",
    "        ## Foreigner ##\n",
    "        if(award[3]):\n",
    "            small_df['外籍球員']= pd.Series([1]*r)\n",
    "        else:\n",
    "            small_df['外籍球員']= pd.Series([0]*r)\n",
    "            award = data[a]\n",
    "            \n",
    "         ## Column initialization ##\n",
    "        small_df['是否入圍全明星'] = pd.Series([0]*r)\n",
    "        small_df['當年度獎項次數'] = pd.Series([0]*r)\n",
    "        small_df['當年度獎項YN'] = pd.Series([0]*r)\n",
    "\n",
    "        ## List all season ##\n",
    "#         all_series = list(small_df.iloc[:,0])\n",
    "        for m in range(len(award[2])):\n",
    "            for n in range(len(all_series)):\n",
    "                if(award[2][m] == all_series[n]):\n",
    "                    small_df['是否入圍全明星'][n] = 1\n",
    "                    small_df['當年度獎項YN'][n] = 1\n",
    "                    \n",
    "                    small_df['當年度獎項YN'][r-1] = 1\n",
    "\n",
    "        for m in range(len(award[1])):\n",
    "            for n in range(len(all_series)):\n",
    "                if(award[1][m] == all_series[n]):\n",
    "                    small_df['當年度獎項次數'][n] += 1\n",
    "                    small_df['當年度獎項YN'][n] = 1\n",
    "\n",
    "                    ## Career get the award or not\n",
    "                    small_df['當年度獎項YN'][r-1] = 1\n",
    "\n",
    "\n",
    "        ## Count the award throught out all the career ## \n",
    "        ## The player may have the transfer to another \n",
    "        for m in range(r-1):\n",
    "            if m != 0 and all_series[m-1] != all_series[m]:\n",
    "                small_df['當年度獎項次數'][r-1] += small_df['當年度獎項次數'][m]\n",
    "                small_df['是否入圍全明星'][r-1] += small_df['是否入圍全明星'][m]\n",
    "            elif m == 0:\n",
    "                small_df['當年度獎項次數'][r-1] += small_df['當年度獎項次數'][m]\n",
    "                small_df['是否入圍全明星'][r-1] += small_df['是否入圍全明星'][m]\n",
    "                \n",
    "        ## Combine the dataframe ##\n",
    "        result = pd.concat([result,small_df],axis=0,join='outer',ignore_index=True,sort=False)\n",
    "        all_series = []"
   ]
  },
  {
   "cell_type": "code",
   "execution_count": null,
   "metadata": {},
   "outputs": [],
   "source": [
    "result"
   ]
  },
  {
   "cell_type": "code",
   "execution_count": null,
   "metadata": {},
   "outputs": [],
   "source": [
    "#result.shape\n",
    "len(result)\n",
    "colname = result.columns\n",
    "for i in range(len(colname)):\n",
    "    print(df[colname[i]])\n",
    "    df[colname[i]] = result[colname[i]]"
   ]
  },
  {
   "cell_type": "code",
   "execution_count": null,
   "metadata": {},
   "outputs": [],
   "source": [
    "df.to_excel('QQQQQ.xlsx')"
   ]
  },
  {
   "cell_type": "code",
   "execution_count": null,
   "metadata": {},
   "outputs": [],
   "source": [
    "players_list = pd.read_csv('player_my_df.csv')\n",
    "player_name = players_list['1']"
   ]
  },
  {
   "cell_type": "code",
   "execution_count": null,
   "metadata": {},
   "outputs": [],
   "source": [
    "a = list(reversed(df['FirstName'] + \" \" +  df['LastName'] ))\n",
    "name = []\n",
    "for i in range(len(a)):\n",
    "    if i != 0 and a[i] == a[i-1]:\n",
    "        continue\n",
    "    else:\n",
    "        name.append(a[i])\n",
    "#players_list\n",
    "len(name)\n",
    "len(player_name)"
   ]
  }
 ],
 "metadata": {
  "kernelspec": {
   "display_name": "Python 3",
   "language": "python",
   "name": "python3"
  },
  "language_info": {
   "codemirror_mode": {
    "name": "ipython",
    "version": 3
   },
   "file_extension": ".py",
   "mimetype": "text/x-python",
   "name": "python",
   "nbconvert_exporter": "python",
   "pygments_lexer": "ipython3",
   "version": "3.7.0"
  }
 },
 "nbformat": 4,
 "nbformat_minor": 2
}
