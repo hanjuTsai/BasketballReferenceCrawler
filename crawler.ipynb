{
 "cells": [
  {
   "cell_type": "code",
   "execution_count": null,
   "metadata": {},
   "outputs": [],
   "source": [
    "import os\n",
    "import time\n",
    "import datetime\n",
    "from selenium import webdriver\n",
    "from IPython.display import clear_output\n",
    "from selenium.webdriver.support.ui import Select\n",
    "from selenium.webdriver.common.keys import Keys\n",
    "from selenium.webdriver.chrome.options import Options\n",
    "from selenium.webdriver.common.by import By\n",
    "from selenium.webdriver.common.action_chains import ActionChains"
   ]
  },
  {
   "cell_type": "markdown",
   "metadata": {},
   "source": [
    "## Read the player list"
   ]
  },
  {
   "cell_type": "code",
   "execution_count": null,
   "metadata": {},
   "outputs": [],
   "source": [
    "import pandas as pd\n",
    "player_list = pd.read_csv('info/players_search_list.csv', header=None)"
   ]
  },
  {
   "cell_type": "markdown",
   "metadata": {},
   "source": [
    "## Function return first char"
   ]
  },
  {
   "cell_type": "code",
   "execution_count": null,
   "metadata": {},
   "outputs": [],
   "source": [
    "def firChar(name):\n",
    "    return((str(name[0])).lower())\n"
   ]
  },
  {
   "cell_type": "markdown",
   "metadata": {},
   "source": [
    "## Parse the url and find the download the excel"
   ]
  },
  {
   "cell_type": "code",
   "execution_count": null,
   "metadata": {},
   "outputs": [],
   "source": [
    "player_list [4] = list(map(lambda x: firChar(x) , player_list[0]))"
   ]
  },
  {
   "cell_type": "markdown",
   "metadata": {},
   "source": [
    "## Create per game url"
   ]
  },
  {
   "cell_type": "code",
   "execution_count": null,
   "metadata": {},
   "outputs": [],
   "source": [
    "## sample url:\n",
    "## https://www.basketball-reference.com/players/a/abdursh01.html\n",
    "\n",
    "base_url = \"https://www.basketball-reference.com/players\"\n",
    "row, col = player_list.shape\n",
    "url = []\n",
    "\n",
    "for i in range(row):\n",
    "    player_chr = (player_list[4][i])\n",
    "    player_name = (player_list[0][i])\n",
    "    url.append(os.path.join(base_url,player_chr , player_name + \".html\"))\n",
    "player_list[5] = (url)"
   ]
  },
  {
   "cell_type": "markdown",
   "metadata": {},
   "source": [
    "## Download the csv"
   ]
  },
  {
   "cell_type": "code",
   "execution_count": null,
   "metadata": {},
   "outputs": [],
   "source": [
    "# chrome_options.add_argument(\"--headless\") # make the chrome invisible\n",
    "chrome_options = Options() \n",
    "chrome_options.add_argument(\"--window-size=200x20\")\n",
    "wd = webdriver.Chrome(options=chrome_options)"
   ]
  },
  {
   "cell_type": "code",
   "execution_count": null,
   "metadata": {},
   "outputs": [],
   "source": [
    "def rename(i):\n",
    "    i = str(i) + \"R.xls\"\n",
    "    dirs = os.listdir('/Users/hanjitsai/Downloads/')\n",
    "    base = '/Users/hanjitsai/Downloads/*'\n",
    "    !mv -f $base $i"
   ]
  },
  {
   "cell_type": "code",
   "execution_count": null,
   "metadata": {},
   "outputs": [],
   "source": [
    "list(map(lambda x: firChar(x) , player_list[0]))\n",
    "dirs = !ls ./data\n",
    "dirs_no = sorted(list(map (lambda x : int(x.split('.')[0]),dirs)))"
   ]
  },
  {
   "cell_type": "code",
   "execution_count": null,
   "metadata": {},
   "outputs": [],
   "source": [
    "for i in range(4472,row):\n",
    "    ## click the download btn\n",
    "    if len(dirs_no) >= 0:\n",
    "        if dirs_no[0] == i:\n",
    "            dirs_no.pop(0)\n",
    "            continue\n",
    "            \n",
    "    #//*[@id=\"all_per_game\"]/div[1]/div/ul/li[1]/span\n",
    "    #//*[@id=\"all_per_game\"]/div[1]/div/ul/li[1]/span\n",
    "    #//*[@id=\"all_per_game\"]/div[1]/div/ul/li[1]/span\n",
    "    #//*[@id=\"all_per_game\"]/div[1]/div/ul/li[2]/span\n",
    "    #//*[@id=\"all_per_game\"]/div[1]/div/ul/li[2]/div/ul/li[3]/button\n",
    "    \n",
    "    try:\n",
    "        ## Download file source code\n",
    "        url = player_list[5][i] + \"#all_per_game\"\n",
    "        \n",
    "        try:\n",
    "            wd.get(url)\n",
    "            wd.execute_script(\"window.scrollBy(0,-250)\")\n",
    "            target = wd.find_element_by_xpath('//*[@id=\"all_per_game\"]/div[1]/div/ul/li[2]/span')\n",
    "        except:\n",
    "            pass\n",
    "\n",
    "        \n",
    "        # hover to menu\n",
    "        action_chains = ActionChains(wd)\n",
    "        action_chains.move_to_element(target)\n",
    "        action_chains.perform()\n",
    "        time.sleep(2)   \n",
    "        \n",
    "        wd.find_element_by_xpath('//*[@id=\"all_per_game\"]/div[1]/div/ul/li[2]/div/ul/li[3]/button').click() \n",
    "        time.sleep(3)\n",
    "        rename(i)  \n",
    "        \n",
    "    except:\n",
    "        print(player_list[1][i])\n",
    "        print(player_list[5][i])\n",
    "        pass\n",
    "    break\n",
    "\n",
    "#wd.quit()   #關閉瀏覽器"
   ]
  }
 ],
 "metadata": {
  "kernelspec": {
   "display_name": "Python 3",
   "language": "python",
   "name": "python3"
  },
  "language_info": {
   "codemirror_mode": {
    "name": "ipython",
    "version": 3
   },
   "file_extension": ".py",
   "mimetype": "text/x-python",
   "name": "python",
   "nbconvert_exporter": "python",
   "pygments_lexer": "ipython3",
   "version": "3.7.0"
  }
 },
 "nbformat": 4,
 "nbformat_minor": 2
}
