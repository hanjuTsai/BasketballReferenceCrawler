{
 "cells": [
  {
   "cell_type": "code",
   "execution_count": 2,
   "metadata": {},
   "outputs": [],
   "source": [
    "import os\n",
    "import time\n",
    "import datetime\n",
    "from selenium import webdriver\n",
    "from selenium.webdriver.support.ui import Select\n",
    "from selenium.webdriver.common.keys import Keys\n",
    "from selenium.webdriver.chrome.options import Options\n",
    "from selenium.webdriver.common.by import By\n",
    "from selenium.webdriver.common.action_chains import ActionChains"
   ]
  },
  {
   "cell_type": "code",
   "execution_count": null,
   "metadata": {},
   "outputs": [],
   "source": []
  },
  {
   "cell_type": "code",
   "execution_count": 29,
   "metadata": {},
   "outputs": [],
   "source": [
    "# chrome_options.add_argument(\"--headless\") # make the chrome invisible\n",
    "chrome_options = Options()\n",
    "chrome_options.add_argument(\"--window-size=100x10\")\n",
    "wd = webdriver.Chrome(options=chrome_options)"
   ]
  },
  {
   "cell_type": "code",
   "execution_count": 30,
   "metadata": {},
   "outputs": [],
   "source": [
    "sample_url = \"https://www.basketball-reference.com/players/a/abdursh01.html\"\n",
    "wd.get(sample_url)\n",
    "\n",
    "more = '//*[@id=\"meta_more_button\"]'\n",
    "wd.find_element_by_xpath(more).click()\n",
    "\n",
    "b_xpath = '//*[@id=\"necro-birth\"]/a[1]'\n",
    "y_xpath = '//*[@id=\"necro-birth\"]/a[2]'\n",
    "c_xpath = '//*[@id=\"meta\"]/div[2]/p[7]/a'\n",
    "p_xpath = '//*[@id=\"meta\"]/div[2]/p[9]'\n",
    "\n",
    "month,day = wd.find_element_by_xpath(b_xpath).text.split()\n",
    "year = wd.find_element_by_xpath(y_xpath).text\n",
    "college = wd.find_element_by_xpath(c_xpath).text\n",
    "draft = wd.find_element_by_xpath(p_xpath).text\n",
    "\n",
    "wd.quit()"
   ]
  },
  {
   "cell_type": "code",
   "execution_count": 31,
   "metadata": {},
   "outputs": [
    {
     "data": {
      "text/plain": [
       "('December',\n",
       " '11',\n",
       " '1976',\n",
       " 'University of California',\n",
       " 'Draft: Vancouver Grizzlies, 1st round (3rd pick, 3rd overall), 1996 NBA Draft')"
      ]
     },
     "execution_count": 31,
     "metadata": {},
     "output_type": "execute_result"
    }
   ],
   "source": [
    "month,day,year,college,draft"
   ]
  },
  {
   "cell_type": "code",
   "execution_count": null,
   "metadata": {},
   "outputs": [],
   "source": []
  },
  {
   "cell_type": "code",
   "execution_count": null,
   "metadata": {},
   "outputs": [],
   "source": []
  }
 ],
 "metadata": {
  "kernelspec": {
   "display_name": "Python 3",
   "language": "python",
   "name": "python3"
  },
  "language_info": {
   "codemirror_mode": {
    "name": "ipython",
    "version": 3
   },
   "file_extension": ".py",
   "mimetype": "text/x-python",
   "name": "python",
   "nbconvert_exporter": "python",
   "pygments_lexer": "ipython3",
   "version": "3.7.0"
  }
 },
 "nbformat": 4,
 "nbformat_minor": 2
}
